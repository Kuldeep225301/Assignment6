{
 "cells": [
  {
   "cell_type": "code",
   "execution_count": 1,
   "id": "ff8551c1-2f3d-4f9f-af6e-85b97e31ec46",
   "metadata": {
    "tags": []
   },
   "outputs": [
    {
     "data": {
      "text/plain": [
       "[1, 4, 9, 16, 25, 2025, 25]"
      ]
     },
     "execution_count": 1,
     "metadata": {},
     "output_type": "execute_result"
    }
   ],
   "source": [
    "l = [1,2,3,4,5,45,5]\n",
    "l1= []\n",
    "for i in l:\n",
    "    l1.append(i**2)\n",
    "l1"
   ]
  },
  {
   "cell_type": "markdown",
   "id": "30554c53-7b69-4231-be5d-c7d3702203dd",
   "metadata": {},
   "source": [
    "so now i'll write in comprehension"
   ]
  },
  {
   "cell_type": "code",
   "execution_count": 2,
   "id": "041caa88-7d65-4162-88b3-088c8a9d7574",
   "metadata": {
    "tags": []
   },
   "outputs": [],
   "source": [
    "l = [1,2,3,4,5,45,5]"
   ]
  },
  {
   "cell_type": "code",
   "execution_count": 3,
   "id": "e05a87be-240d-478d-a49e-a2426e6e982a",
   "metadata": {
    "tags": []
   },
   "outputs": [
    {
     "data": {
      "text/plain": [
       "[1, 4, 9, 16, 25, 2025, 25]"
      ]
     },
     "execution_count": 3,
     "metadata": {},
     "output_type": "execute_result"
    }
   ],
   "source": [
    "[i**2 for i in l]"
   ]
  },
  {
   "cell_type": "code",
   "execution_count": 13,
   "id": "0eeefce3-0191-4c62-953c-43db21f338a3",
   "metadata": {
    "tags": []
   },
   "outputs": [
    {
     "data": {
      "text/plain": [
       "[2, 4]"
      ]
     },
     "execution_count": 13,
     "metadata": {},
     "output_type": "execute_result"
    }
   ],
   "source": [
    " l = [1,2,3,4,5,45,5]\n",
    "[i for i in l if i % 2==0]\n"
   ]
  },
  {
   "cell_type": "code",
   "execution_count": 15,
   "id": "15db4358-70ce-4921-849b-bb2dcecf7552",
   "metadata": {
    "tags": []
   },
   "outputs": [
    {
     "data": {
      "text/plain": [
       "['KULDEEP', 'ABHAY', 'ANIL', 'RAJAN']"
      ]
     },
     "execution_count": 15,
     "metadata": {},
     "output_type": "execute_result"
    }
   ],
   "source": [
    "l  = [\"kuldeep\",\"Abhay\",\"Anil\",\"Rajan\"]\n",
    "[i.upper() for i in l]"
   ]
  },
  {
   "cell_type": "code",
   "execution_count": 24,
   "id": "e0d03ab2-1a23-480e-a3f0-11b56d145279",
   "metadata": {
    "tags": []
   },
   "outputs": [
    {
     "data": {
      "text/plain": [
       "{'Kuldeep': 5517801, 'Anil': 24235929, 'Abhay': 5058001, 'Rajan': 81414529}"
      ]
     },
     "execution_count": 24,
     "metadata": {},
     "output_type": "execute_result"
    }
   ],
   "source": [
    "d = {\"Kuldeep\":2349, \"Anil\":4923, \"Abhay\":2249,\"Rajan\":9023}\n",
    "{k:v**2 for k , v in d.items()}"
   ]
  },
  {
   "cell_type": "code",
   "execution_count": 25,
   "id": "3a8cf7c3-e429-402c-8db4-63e9a33cd88f",
   "metadata": {
    "tags": []
   },
   "outputs": [],
   "source": [
    "d = {\"Kuldeep\":2349, \"Anil\":4923, \"Abhay\":2249,\"Rajan\":9023}"
   ]
  },
  {
   "cell_type": "code",
   "execution_count": 26,
   "id": "49086f09-9309-4c1a-a726-9c2e0d282358",
   "metadata": {
    "tags": []
   },
   "outputs": [
    {
     "data": {
      "text/plain": [
       "dict_items([('Kuldeep', 2349), ('Anil', 4923), ('Abhay', 2249), ('Rajan', 9023)])"
      ]
     },
     "execution_count": 26,
     "metadata": {},
     "output_type": "execute_result"
    }
   ],
   "source": [
    "d.items()"
   ]
  },
  {
   "cell_type": "code",
   "execution_count": 27,
   "id": "d44f1fa6-6684-4bd3-9cba-193e49890496",
   "metadata": {
    "tags": []
   },
   "outputs": [
    {
     "data": {
      "text/plain": [
       "{'Kuldeep': 2349, 'Anil': 4923, 'Abhay': 2249, 'Rajan': 9023}"
      ]
     },
     "execution_count": 27,
     "metadata": {},
     "output_type": "execute_result"
    }
   ],
   "source": [
    "d"
   ]
  },
  {
   "cell_type": "code",
   "execution_count": 29,
   "id": "22ddd15b-6185-4a7e-94f4-a36110d0701e",
   "metadata": {
    "tags": []
   },
   "outputs": [
    {
     "data": {
      "text/plain": [
       "{'Anil': 23, 'Abhay': 49, 'Rajan': 9023}"
      ]
     },
     "execution_count": 29,
     "metadata": {},
     "output_type": "execute_result"
    }
   ],
   "source": [
    "d = {\"Kuldeep\":1, \"Anil\":23, \"Abhay\":49,\"Rajan\":9023}\n",
    "{k:v for k,v in d.items() if v>1}"
   ]
  },
  {
   "cell_type": "code",
   "execution_count": null,
   "id": "72b7f77b-386d-40f8-983d-11349e8751ba",
   "metadata": {},
   "outputs": [],
   "source": []
  }
 ],
 "metadata": {
  "kernelspec": {
   "display_name": "Python 3 (ipykernel)",
   "language": "python",
   "name": "python3"
  },
  "language_info": {
   "codemirror_mode": {
    "name": "ipython",
    "version": 3
   },
   "file_extension": ".py",
   "mimetype": "text/x-python",
   "name": "python",
   "nbconvert_exporter": "python",
   "pygments_lexer": "ipython3",
   "version": "3.11.5"
  }
 },
 "nbformat": 4,
 "nbformat_minor": 5
}
